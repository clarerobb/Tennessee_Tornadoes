{
 "cells": [
  {
   "cell_type": "code",
   "execution_count": 1,
   "id": "ec170c9d",
   "metadata": {},
   "outputs": [
    {
     "name": "stdout",
     "output_type": "stream",
     "text": [
      "      Unnamed: 0    FID    YR  MO      DATE      TIME  MAG  INJ   LOSS  CLOSS  \\\n",
      "0              0  23025  2011   4    4/9/11  14:35:00    0    0  0.020    0.0   \n",
      "1              1  23027  2011   4    4/9/11  16:00:00    1    0  0.075    0.0   \n",
      "2              2  23028  2011   4    4/9/11  16:08:00    1    0  0.010    0.0   \n",
      "3              3  23029  2011   4    4/9/11  16:15:00    0    0  0.015    0.0   \n",
      "4              4  23044  2011   4   4/27/11  19:07:00    0    0  0.005    0.0   \n",
      "...          ...    ...   ...  ..       ...       ...  ...  ...    ...    ...   \n",
      "1109        1109  28915  1967   7    7/5/67  14:25:00    1    0  4.000    0.0   \n",
      "1110        1110  28916  1991  11  11/19/91  17:05:00    1    0  6.000    0.0   \n",
      "1111        1111  28926  1992   3   3/18/92   8:20:00    0    0  4.000    0.0   \n",
      "1112        1112  28962  1974   6    6/7/74  11:30:00    1    1  4.000    0.0   \n",
      "1113        1113  28984  2013   5   5/31/13   5:05:00    1    0  0.180    0.0   \n",
      "\n",
      "         SLAT     SLON     ELAT     ELON    LEN  WID  \n",
      "0     36.2971 -82.3174  36.2934 -82.3021   0.89   50  \n",
      "1     36.3000 -82.4341  36.3000 -82.4341   3.00  150  \n",
      "2     36.3037 -82.3923  36.3099 -82.3846   0.61  100  \n",
      "3     36.0424 -82.5568  36.0477 -82.5393   1.04   50  \n",
      "4     36.2255 -83.0570  36.2263 -83.0486   0.50   70  \n",
      "...       ...      ...      ...      ...    ...  ...  \n",
      "1109  35.0000 -90.0000   0.0000   0.0000   0.10   10  \n",
      "1110  35.1300 -90.0200  35.2800 -89.9300  10.00   50  \n",
      "1111  35.2200 -89.7700   0.0000   0.0000   1.50   50  \n",
      "1112  35.5700 -89.6500   0.0000   0.0000   0.30  100  \n",
      "1113  35.6159 -89.7031  35.6142 -89.6884   0.83  250  \n",
      "\n",
      "[1114 rows x 16 columns]\n"
     ]
    }
   ],
   "source": [
    "import pandas as pd \n",
    "\n",
    "df = pd.read_csv(r'/Users/saribroudy/Resources/Tennessee_Tornadoes/TN_DF.csv')\n",
    "print(df)"
   ]
  },
  {
   "cell_type": "code",
   "execution_count": 2,
   "id": "ef3e5854",
   "metadata": {},
   "outputs": [],
   "source": [
    "df.to_csv('TN_DF.csv')"
   ]
  },
  {
   "cell_type": "code",
   "execution_count": 4,
   "id": "66f2de0f",
   "metadata": {},
   "outputs": [],
   "source": [
    "df.to_csv('/Users/saribroudy/Resources/Tennessee_Tornadoes/TN_DF.csv')"
   ]
  },
  {
   "cell_type": "code",
   "execution_count": null,
   "id": "a05e59ec",
   "metadata": {},
   "outputs": [],
   "source": []
  }
 ],
 "metadata": {
  "kernelspec": {
   "display_name": "Python 3 (ipykernel)",
   "language": "python",
   "name": "python3"
  },
  "language_info": {
   "codemirror_mode": {
    "name": "ipython",
    "version": 3
   },
   "file_extension": ".py",
   "mimetype": "text/x-python",
   "name": "python",
   "nbconvert_exporter": "python",
   "pygments_lexer": "ipython3",
   "version": "3.9.12"
  }
 },
 "nbformat": 4,
 "nbformat_minor": 5
}
