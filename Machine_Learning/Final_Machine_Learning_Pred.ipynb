{
 "cells": [
  {
   "cell_type": "markdown",
   "id": "a4a2e5fa",
   "metadata": {},
   "source": [
    "## import the data from the database "
   ]
  },
  {
   "cell_type": "markdown",
   "id": "e35e2798",
   "metadata": {},
   "source": [
    "This is my attempt to make a connection between the postgres database and this file\n",
    "It seems to work up until the import config from config portion \n",
    "I'm not sure if I don't have my environment set up correctly or what the issue is \n",
    "but it is needed because the program will recognize the class we are trying to use as \n",
    "a module\n"
   ]
  },
  {
   "cell_type": "code",
   "execution_count": 6,
   "id": "b0e74a23",
   "metadata": {},
   "outputs": [],
   "source": [
    "#import the password from a seperate file that is ignored on github\n",
    "# from config import password\n",
    "# import dependencies \n",
    "import psycopg2\n",
    "import warnings\n",
    "warnings.filterwarnings('ignore')\n",
    "import numpy as np\n",
    "import pandas as pd\n",
    "from collections import Counter\n",
    "from sklearn.metrics import balanced_accuracy_score\n",
    "from sklearn.metrics import confusion_matrix\n",
    "from imblearn.metrics import classification_report_imbalanced\n",
    "from sklearn.model_selection import train_test_split"
   ]
  },
  {
   "cell_type": "code",
   "execution_count": 7,
   "id": "aab83a9d",
   "metadata": {},
   "outputs": [
    {
     "name": "stdout",
     "output_type": "stream",
     "text": [
      "Enter database password········\n",
      "pyscopg2 connection: <connection object at 0x7fe3ce51c1a0; dsn: 'user=postgres password=xxx dbname=Tennessee_Tornadoes host=localhost', closed: 0>\n"
     ]
    }
   ],
   "source": [
    "from getpass import getpass \n",
    "password = getpass ('Enter database password')\n",
    "\n",
    "try: \n",
    "    conn = psycopg2.connect(\n",
    "        host=\"localhost\",\n",
    "        database = \"Tennessee_Tornadoes\",\n",
    "        user=\"postgres\",\n",
    "        password=password)\n",
    "    print ('pyscopg2 connection:', conn)\n",
    "    \n",
    "except Exception as err:\n",
    "    print ('psycopg2 connect() ERROR:', err)\n",
    "    connect = None\n"
   ]
  },
  {
   "cell_type": "code",
   "execution_count": 8,
   "id": "b9a888f2",
   "metadata": {},
   "outputs": [],
   "source": [
    "cr = conn.cursor()\n",
    "cr.execute('SELECT * FROM total_tn_tornadoes;')\n",
    "tmp = cr.fetchall()"
   ]
  },
  {
   "cell_type": "code",
   "execution_count": 9,
   "id": "390df315",
   "metadata": {},
   "outputs": [],
   "source": [
    "#extract the  column names\n",
    "col_names = []\n",
    "for db in cr.description:\n",
    "    col_names.append(db[0])"
   ]
  },
  {
   "cell_type": "code",
   "execution_count": 10,
   "id": "40b3a5de",
   "metadata": {},
   "outputs": [
    {
     "data": {
      "text/html": [
       "<div>\n",
       "<style scoped>\n",
       "    .dataframe tbody tr th:only-of-type {\n",
       "        vertical-align: middle;\n",
       "    }\n",
       "\n",
       "    .dataframe tbody tr th {\n",
       "        vertical-align: top;\n",
       "    }\n",
       "\n",
       "    .dataframe thead th {\n",
       "        text-align: right;\n",
       "    }\n",
       "</style>\n",
       "<table border=\"1\" class=\"dataframe\">\n",
       "  <thead>\n",
       "    <tr style=\"text-align: right;\">\n",
       "      <th></th>\n",
       "      <th>yr</th>\n",
       "      <th>mo</th>\n",
       "      <th>date</th>\n",
       "      <th>time</th>\n",
       "      <th>mag</th>\n",
       "      <th>slat</th>\n",
       "      <th>slon</th>\n",
       "      <th>elat</th>\n",
       "      <th>elon</th>\n",
       "      <th>len</th>\n",
       "      <th>wid</th>\n",
       "      <th>fatalities</th>\n",
       "      <th>injuries</th>\n",
       "      <th>property_loss</th>\n",
       "      <th>starting_county</th>\n",
       "      <th>ending_county</th>\n",
       "    </tr>\n",
       "  </thead>\n",
       "  <tbody>\n",
       "    <tr>\n",
       "      <th>0</th>\n",
       "      <td>2011</td>\n",
       "      <td>4</td>\n",
       "      <td>2011-04-09</td>\n",
       "      <td>14:35:00</td>\n",
       "      <td>0</td>\n",
       "      <td>36.2971</td>\n",
       "      <td>-82.3174</td>\n",
       "      <td>36.2934</td>\n",
       "      <td>-82.3021</td>\n",
       "      <td>0.89</td>\n",
       "      <td>50</td>\n",
       "      <td>0</td>\n",
       "      <td>0</td>\n",
       "      <td>4.0</td>\n",
       "      <td>Carter County</td>\n",
       "      <td>Carter County</td>\n",
       "    </tr>\n",
       "    <tr>\n",
       "      <th>1</th>\n",
       "      <td>2011</td>\n",
       "      <td>4</td>\n",
       "      <td>2011-04-09</td>\n",
       "      <td>16:00:00</td>\n",
       "      <td>1</td>\n",
       "      <td>36.3</td>\n",
       "      <td>-82.4341</td>\n",
       "      <td>36.3</td>\n",
       "      <td>-82.4341</td>\n",
       "      <td>3.0</td>\n",
       "      <td>150</td>\n",
       "      <td>0</td>\n",
       "      <td>0</td>\n",
       "      <td>5.0</td>\n",
       "      <td>Washington County</td>\n",
       "      <td>Washington County</td>\n",
       "    </tr>\n",
       "    <tr>\n",
       "      <th>2</th>\n",
       "      <td>2011</td>\n",
       "      <td>4</td>\n",
       "      <td>2011-04-09</td>\n",
       "      <td>16:08:00</td>\n",
       "      <td>1</td>\n",
       "      <td>36.3037</td>\n",
       "      <td>-82.3923</td>\n",
       "      <td>36.3099</td>\n",
       "      <td>-82.3846</td>\n",
       "      <td>0.61</td>\n",
       "      <td>100</td>\n",
       "      <td>0</td>\n",
       "      <td>0</td>\n",
       "      <td>4.0</td>\n",
       "      <td>Washington County</td>\n",
       "      <td>Washington County</td>\n",
       "    </tr>\n",
       "    <tr>\n",
       "      <th>3</th>\n",
       "      <td>2011</td>\n",
       "      <td>4</td>\n",
       "      <td>2011-04-09</td>\n",
       "      <td>16:15:00</td>\n",
       "      <td>0</td>\n",
       "      <td>36.0424</td>\n",
       "      <td>-82.5568</td>\n",
       "      <td>36.0477</td>\n",
       "      <td>-82.5393</td>\n",
       "      <td>1.04</td>\n",
       "      <td>50</td>\n",
       "      <td>0</td>\n",
       "      <td>0</td>\n",
       "      <td>4.0</td>\n",
       "      <td>Unicoi County</td>\n",
       "      <td>Unicoi County</td>\n",
       "    </tr>\n",
       "    <tr>\n",
       "      <th>4</th>\n",
       "      <td>2011</td>\n",
       "      <td>4</td>\n",
       "      <td>2011-04-27</td>\n",
       "      <td>19:07:00</td>\n",
       "      <td>0</td>\n",
       "      <td>36.2255</td>\n",
       "      <td>-83.057</td>\n",
       "      <td>36.2263</td>\n",
       "      <td>-83.0486</td>\n",
       "      <td>0.5</td>\n",
       "      <td>70</td>\n",
       "      <td>0</td>\n",
       "      <td>0</td>\n",
       "      <td>3.0</td>\n",
       "      <td>Greene County</td>\n",
       "      <td>Greene County</td>\n",
       "    </tr>\n",
       "  </tbody>\n",
       "</table>\n",
       "</div>"
      ],
      "text/plain": [
       "     yr  mo        date      time  mag     slat      slon     elat      elon  \\\n",
       "0  2011   4  2011-04-09  14:35:00    0  36.2971  -82.3174  36.2934  -82.3021   \n",
       "1  2011   4  2011-04-09  16:00:00    1     36.3  -82.4341     36.3  -82.4341   \n",
       "2  2011   4  2011-04-09  16:08:00    1  36.3037  -82.3923  36.3099  -82.3846   \n",
       "3  2011   4  2011-04-09  16:15:00    0  36.0424  -82.5568  36.0477  -82.5393   \n",
       "4  2011   4  2011-04-27  19:07:00    0  36.2255   -83.057  36.2263  -83.0486   \n",
       "\n",
       "    len  wid  fatalities  injuries property_loss    starting_county  \\\n",
       "0  0.89   50           0         0           4.0      Carter County   \n",
       "1   3.0  150           0         0           5.0  Washington County   \n",
       "2  0.61  100           0         0           4.0  Washington County   \n",
       "3  1.04   50           0         0           4.0      Unicoi County   \n",
       "4   0.5   70           0         0           3.0      Greene County   \n",
       "\n",
       "       ending_county  \n",
       "0      Carter County  \n",
       "1  Washington County  \n",
       "2  Washington County  \n",
       "3      Unicoi County  \n",
       "4      Greene County  "
      ]
     },
     "execution_count": 10,
     "metadata": {},
     "output_type": "execute_result"
    }
   ],
   "source": [
    "# Create the dataframe, passing in the list of col_names extracted from the description\n",
    "df = pd.DataFrame(tmp, columns=col_names)\n",
    "df.head()"
   ]
  },
  {
   "cell_type": "code",
   "execution_count": null,
   "id": "aa796431",
   "metadata": {},
   "outputs": [],
   "source": [
    "# #!/usr/bin/python\n",
    "# from configparser import ConfigParser\n",
    "\n",
    "\n",
    "# def config(filename='database.ini', section='postgresql'):\n",
    "#     # create a parser\n",
    "#     parser = ConfigParser()\n",
    "#     # read config file\n",
    "#     parser.read(filename)\n",
    "\n",
    "#     # get section, default to postgresql\n",
    "#     db = {}\n",
    "#     if parser.has_section(section):\n",
    "#         params = parser.items(section)\n",
    "#         for param in params:\n",
    "#             db[param[0]] = param[1]\n",
    "#     else:\n",
    "#         raise Exception('Section {0} not found in the {1} file'.format(section, filename))\n",
    "\n",
    "#     return db\n"
   ]
  },
  {
   "cell_type": "code",
   "execution_count": null,
   "id": "3f7b69ad",
   "metadata": {},
   "outputs": [],
   "source": [
    "# from config import config"
   ]
  },
  {
   "cell_type": "code",
   "execution_count": null,
   "id": "9362e81d",
   "metadata": {},
   "outputs": [],
   "source": [
    "# #!/usr/bin/python\n",
    "\n",
    "# def connect():\n",
    "#     \"\"\" Connect to the PostgreSQL database server \"\"\"\n",
    "#     conn = None\n",
    "#     try:\n",
    "#         # read connection parameters\n",
    "#         params = config()\n",
    "\n",
    "#         # connect to the PostgreSQL server\n",
    "#         print('Connecting to the PostgreSQL database...')\n",
    "#         conn = psycopg2.connect(**params)\n",
    "\n",
    "#         # create a cursor\n",
    "#         cur = conn.cursor()\n",
    "#     # execute a statement\n",
    "#         print('PostgreSQL database version:')\n",
    "#         cur.execute('SELECT version()')\n",
    "\n",
    "#         # display the PostgreSQL database server version\n",
    "#         db_version = cur.fetchone()\n",
    "#         print(db_version)\n",
    "       \n",
    "#     # close the communication with the PostgreSQL\n",
    "#         cur.close()\n",
    "#     except (Exception, psycopg2.DatabaseError) as error:\n",
    "#         print(error)\n",
    "#     finally:\n",
    "#         if conn is not None:\n",
    "#             conn.close()\n",
    "#             print('Database connection closed.')\n",
    "\n",
    "\n",
    "# if __name__ == '__main__':\n",
    "#     connect()\n",
    "    \n",
    "    \n"
   ]
  },
  {
   "cell_type": "code",
   "execution_count": null,
   "id": "be63d73b",
   "metadata": {},
   "outputs": [],
   "source": [
    "#python connect.py"
   ]
  },
  {
   "cell_type": "markdown",
   "id": "fb2da73f",
   "metadata": {},
   "source": [
    "### Prepare Data for the ML"
   ]
  },
  {
   "cell_type": "code",
   "execution_count": null,
   "id": "9843d050",
   "metadata": {},
   "outputs": [],
   "source": [
    "# Create our features\n",
    "\n",
    "target = ''\n",
    "X = pd.get_dummies(df.drop(columns=target))\n",
    "\n",
    "\n",
    "# Create our target\n",
    "y = df[target]"
   ]
  },
  {
   "cell_type": "code",
   "execution_count": null,
   "id": "a17db1ce",
   "metadata": {},
   "outputs": [],
   "source": [
    "\n",
    "X_train, X_test, y_train, y_test = train_test_split(X, \n",
    "                                                    y, \n",
    "                                                    random_state=1)"
   ]
  },
  {
   "cell_type": "markdown",
   "id": "e911e5dd",
   "metadata": {},
   "source": [
    "### Run the first model"
   ]
  },
  {
   "cell_type": "markdown",
   "id": "1b8cb22d",
   "metadata": {},
   "source": [
    "target = loss"
   ]
  },
  {
   "cell_type": "code",
   "execution_count": null,
   "id": "9fc92d4b",
   "metadata": {},
   "outputs": [],
   "source": [
    "target = 'Property Loss'\n",
    "X = pd.get_dummies(df.drop([target],axis = 1))\n",
    "\n",
    "\n",
    "# Create our target\n",
    "y = df[target]\n",
    "from sklearn.linear_model import SGDClassifier\n",
    "from sklearn.preprocessing import StandardScaler\n",
    "from sklearn.pipeline import make_pipeline\n",
    "\n",
    " X_resampled, y_resampled = SMOTE(random_state=1,\n",
    "    sampling_strategy='auto').fit_resample(\n",
    "       X_resampled, y_resampled)\n",
    "    Counter(y_resampled)\n",
    "# Calculated the balanced accuracy score\n",
    "    y_pred = model.predict(X_test)\n",
    "    balanced_accuracy_score(y_test, y_pred)\n",
    "    print(f\"The accuracy score: \\n{balanced_accuracy_score(y_test, y_pred)}\\n\")\n",
    "# Display the confusion matrix"
   ]
  },
  {
   "cell_type": "markdown",
   "id": "8fad7f03",
   "metadata": {},
   "source": [
    "### Run the second model "
   ]
  },
  {
   "cell_type": "markdown",
   "id": "a4d62b32",
   "metadata": {},
   "source": [
    "target = location "
   ]
  },
  {
   "cell_type": "code",
   "execution_count": null,
   "id": "3928da37",
   "metadata": {},
   "outputs": [],
   "source": [
    "\n",
    "\n",
    "target = 'starting county'\n",
    "X = pd.get_dummies(df.drop([target],axis = 1))\n",
    "\n",
    "\n",
    "# Create our target\n",
    "y = df[target]\n",
    "from sklearn.linear_model import SGDClassifier\n",
    "from sklearn.preprocessing import StandardScaler\n",
    "from sklearn.pipeline import make_pipeline\n",
    "\n",
    "from imblearn.over_sampling import RandomOverSampler\n",
    "ros = RandomOverSampler(random_state=1)\n",
    "X_resampled, y_resampled = ros.fit_resample(X_train, y_train)\n",
    "Counter(y_resampled)\n",
    "\n",
    "model = make_pipeline(StandardScaler(),SGDClassifier(max_iter=1000, tol=1e-3))\n",
    "model.fit(X_resampled, y_resampled)\n",
    "\n",
    "# Calculated the balanced accuracy score\n",
    "y_pred = model.predict(X_test)\n",
    "balanced_accuracy_score(y_test, y_pred)\n",
    "print(f\"The accuracy score: \\n{balanced_accuracy_score(y_test, y_pred)}\\n\")\n"
   ]
  },
  {
   "cell_type": "markdown",
   "id": "91d28cf0",
   "metadata": {},
   "source": [
    "### Run the third model "
   ]
  },
  {
   "cell_type": "markdown",
   "id": "9667ffa8",
   "metadata": {},
   "source": [
    "target = Magnitude "
   ]
  },
  {
   "cell_type": "code",
   "execution_count": null,
   "id": "aae57f4a",
   "metadata": {},
   "outputs": [],
   "source": [
    "ros = RandomOverSampler(random_state=1)\n",
    "X_resampled, y_resampled = ros.fit_resample(X_train, y_train)\n",
    "Counter(y_resampled)\n",
    "# Train the Logistic Regression model using the resampled data\n",
    "\n",
    "model = LogisticRegression(solver='liblinear', random_state=1)\n",
    "    \n",
    "#'liblinear’, ‘sag’, ‘saga\n",
    "model.fit(X_resampled, y_resampled)\n",
    "# Display the confusion matrix\n",
    "\n",
    "y_pred = model.predict(X_test)\n",
    "print(f\"The accuracy score: \\n{balanced_accuracy_score(y_test, y_pred)}\\n\")\n"
   ]
  },
  {
   "cell_type": "code",
   "execution_count": null,
   "id": "776c5182",
   "metadata": {},
   "outputs": [],
   "source": []
  },
  {
   "cell_type": "code",
   "execution_count": null,
   "id": "39322090",
   "metadata": {},
   "outputs": [],
   "source": []
  }
 ],
 "metadata": {
  "kernelspec": {
   "display_name": "mlenv",
   "language": "python",
   "name": "mlenv"
  },
  "language_info": {
   "codemirror_mode": {
    "name": "ipython",
    "version": 3
   },
   "file_extension": ".py",
   "mimetype": "text/x-python",
   "name": "python",
   "nbconvert_exporter": "python",
   "pygments_lexer": "ipython3",
   "version": "3.7.13"
  }
 },
 "nbformat": 4,
 "nbformat_minor": 5
}
