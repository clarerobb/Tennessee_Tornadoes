{
 "cells": [
  {
   "cell_type": "markdown",
   "id": "a4a2e5fa",
   "metadata": {},
   "source": [
    "## import the data from the database "
   ]
  },
  {
   "cell_type": "markdown",
   "id": "e35e2798",
   "metadata": {},
   "source": [
    "This is my attempt to make a connection between the postgres database and this file\n",
    "It seems to work up until the import config from config portion \n",
    "I'm not sure if I don't have my environment set up correctly or what the issue is \n",
    "but it is needed because the program will recognize the class we are trying to use as \n",
    "a module\n"
   ]
  },
  {
   "cell_type": "code",
   "execution_count": 1,
   "id": "b0e74a23",
   "metadata": {},
   "outputs": [],
   "source": [
    "#import the password from a seperate file that is ignored on github\n",
    "# from config import password\n",
    "# import dependencies \n",
    "import psycopg2\n",
    "import warnings\n",
    "warnings.filterwarnings('ignore')\n",
    "import numpy as np\n",
    "import pandas as pd\n",
    "from collections import Counter\n",
    "from sklearn.metrics import balanced_accuracy_score\n",
    "from sklearn.metrics import confusion_matrix\n",
    "from imblearn.metrics import classification_report_imbalanced\n",
    "from sklearn.model_selection import train_test_split"
   ]
  },
  {
   "cell_type": "code",
   "execution_count": null,
   "id": "aab83a9d",
   "metadata": {},
   "outputs": [],
   "source": [
    "from getpass import getpass \n",
    "password = getpass ('Enter database password')\n",
    "\n",
    "try: \n",
    "    conn = psycopg2.connect(\n",
    "        host=\"localhost\",\n",
    "        database = \"Tennessee_Tornadoes\",\n",
    "        user=\"postgres\",\n",
    "        password=password)\n",
    "    print ('pyscopg2 connection:', conn)\n",
    "    \n",
    "except Exception as err:\n",
    "    print ('psycopg2 connect() ERROR:', err)\n",
    "    connect = None\n"
   ]
  },
  {
   "cell_type": "code",
   "execution_count": null,
   "id": "b9a888f2",
   "metadata": {},
   "outputs": [],
   "source": [
    "cr = conn.cursor()\n",
    "cr.execute('SELECT * FROM cleaned_tn_tornadoes;')\n",
    "tmp = cr.fetchall()"
   ]
  },
  {
   "cell_type": "code",
   "execution_count": null,
   "id": "390df315",
   "metadata": {},
   "outputs": [],
   "source": [
    "#extract the  column names\n",
    "col_names = []\n",
    "for db in cr.description:\n",
    "    col_names.append(db[0])"
   ]
  },
  {
   "cell_type": "code",
   "execution_count": null,
   "id": "40b3a5de",
   "metadata": {},
   "outputs": [],
   "source": [
    "# Create the dataframe, passing in the list of col_names extracted from the description\n",
    "df = pd.DataFrame(tmp, columns=col_names)\n",
    "df.head()"
   ]
  },
  {
   "cell_type": "code",
   "execution_count": null,
   "id": "aa796431",
   "metadata": {},
   "outputs": [],
   "source": [
    "# #!/usr/bin/python\n",
    "# from configparser import ConfigParser\n",
    "\n",
    "\n",
    "# def config(filename='database.ini', section='postgresql'):\n",
    "#     # create a parser\n",
    "#     parser = ConfigParser()\n",
    "#     # read config file\n",
    "#     parser.read(filename)\n",
    "\n",
    "#     # get section, default to postgresql\n",
    "#     db = {}\n",
    "#     if parser.has_section(section):\n",
    "#         params = parser.items(section)\n",
    "#         for param in params:\n",
    "#             db[param[0]] = param[1]\n",
    "#     else:\n",
    "#         raise Exception('Section {0} not found in the {1} file'.format(section, filename))\n",
    "\n",
    "#     return db\n"
   ]
  },
  {
   "cell_type": "code",
   "execution_count": null,
   "id": "3f7b69ad",
   "metadata": {},
   "outputs": [],
   "source": [
    "# from config import config"
   ]
  },
  {
   "cell_type": "code",
   "execution_count": null,
   "id": "9362e81d",
   "metadata": {},
   "outputs": [],
   "source": [
    "# #!/usr/bin/python\n",
    "\n",
    "# def connect():\n",
    "#     \"\"\" Connect to the PostgreSQL database server \"\"\"\n",
    "#     conn = None\n",
    "#     try:\n",
    "#         # read connection parameters\n",
    "#         params = config()\n",
    "\n",
    "#         # connect to the PostgreSQL server\n",
    "#         print('Connecting to the PostgreSQL database...')\n",
    "#         conn = psycopg2.connect(**params)\n",
    "\n",
    "#         # create a cursor\n",
    "#         cur = conn.cursor()\n",
    "#     # execute a statement\n",
    "#         print('PostgreSQL database version:')\n",
    "#         cur.execute('SELECT version()')\n",
    "\n",
    "#         # display the PostgreSQL database server version\n",
    "#         db_version = cur.fetchone()\n",
    "#         print(db_version)\n",
    "       \n",
    "#     # close the communication with the PostgreSQL\n",
    "#         cur.close()\n",
    "#     except (Exception, psycopg2.DatabaseError) as error:\n",
    "#         print(error)\n",
    "#     finally:\n",
    "#         if conn is not None:\n",
    "#             conn.close()\n",
    "#             print('Database connection closed.')\n",
    "\n",
    "\n",
    "# if __name__ == '__main__':\n",
    "#     connect()\n",
    "    \n",
    "    \n"
   ]
  },
  {
   "cell_type": "code",
   "execution_count": null,
   "id": "be63d73b",
   "metadata": {},
   "outputs": [],
   "source": [
    "#python connect.py"
   ]
  },
  {
   "cell_type": "markdown",
   "id": "fb2da73f",
   "metadata": {},
   "source": [
    "### Prepare Data for the ML"
   ]
  },
  {
   "cell_type": "code",
   "execution_count": null,
   "id": "9843d050",
   "metadata": {},
   "outputs": [],
   "source": [
    "# Create our features\n",
    "\n",
    "target = ''\n",
    "X = pd.get_dummies(df.drop(columns=target))\n",
    "\n",
    "\n",
    "# Create our target\n",
    "y = df[target]"
   ]
  },
  {
   "cell_type": "code",
   "execution_count": null,
   "id": "a17db1ce",
   "metadata": {},
   "outputs": [],
   "source": [
    "\n",
    "X_train, X_test, y_train, y_test = train_test_split(X, \n",
    "                                                    y, \n",
    "                                                    random_state=1)"
   ]
  },
  {
   "cell_type": "markdown",
   "id": "e911e5dd",
   "metadata": {},
   "source": [
    "### Run the first model"
   ]
  },
  {
   "cell_type": "markdown",
   "id": "1b8cb22d",
   "metadata": {},
   "source": [
    "target = loss"
   ]
  },
  {
   "cell_type": "code",
   "execution_count": null,
   "id": "9fc92d4b",
   "metadata": {},
   "outputs": [],
   "source": [
    "target = 'Property Loss'\n",
    "X = pd.get_dummies(df.drop([target],axis = 1))\n",
    "\n",
    "\n",
    "# Create our target\n",
    "y = df[target]\n",
    "from sklearn.linear_model import SGDClassifier\n",
    "from sklearn.preprocessing import StandardScaler\n",
    "from sklearn.pipeline import make_pipeline\n",
    "\n",
    " X_resampled, y_resampled = SMOTE(random_state=1,\n",
    "    sampling_strategy='auto').fit_resample(\n",
    "       X_resampled, y_resampled)\n",
    "    Counter(y_resampled)\n",
    "# Calculated the balanced accuracy score\n",
    "    y_pred = model.predict(X_test)\n",
    "    balanced_accuracy_score(y_test, y_pred)\n",
    "    print(f\"The accuracy score: \\n{balanced_accuracy_score(y_test, y_pred)}\\n\")\n",
    "# Display the confusion matrix"
   ]
  },
  {
   "cell_type": "markdown",
   "id": "8fad7f03",
   "metadata": {},
   "source": [
    "### Run the second model "
   ]
  },
  {
   "cell_type": "markdown",
   "id": "a4d62b32",
   "metadata": {},
   "source": [
    "target = location "
   ]
  },
  {
   "cell_type": "code",
   "execution_count": null,
   "id": "3928da37",
   "metadata": {},
   "outputs": [],
   "source": [
    "\n",
    "\n",
    "target = 'starting county'\n",
    "X = pd.get_dummies(df.drop([target],axis = 1))\n",
    "\n",
    "\n",
    "# Create our target\n",
    "y = df[target]\n",
    "from sklearn.linear_model import SGDClassifier\n",
    "from sklearn.preprocessing import StandardScaler\n",
    "from sklearn.pipeline import make_pipeline\n",
    "\n",
    "from imblearn.over_sampling import RandomOverSampler\n",
    "ros = RandomOverSampler(random_state=1)\n",
    "X_resampled, y_resampled = ros.fit_resample(X_train, y_train)\n",
    "Counter(y_resampled)\n",
    "\n",
    "model = make_pipeline(StandardScaler(),SGDClassifier(max_iter=1000, tol=1e-3))\n",
    "model.fit(X_resampled, y_resampled)\n",
    "\n",
    "# Calculated the balanced accuracy score\n",
    "y_pred = model.predict(X_test)\n",
    "balanced_accuracy_score(y_test, y_pred)\n",
    "print(f\"The accuracy score: \\n{balanced_accuracy_score(y_test, y_pred)}\\n\")\n"
   ]
  },
  {
   "cell_type": "markdown",
   "id": "91d28cf0",
   "metadata": {},
   "source": [
    "### Run the third model "
   ]
  },
  {
   "cell_type": "markdown",
   "id": "9667ffa8",
   "metadata": {},
   "source": [
    "target = Magnitude "
   ]
  },
  {
   "cell_type": "code",
   "execution_count": null,
   "id": "aae57f4a",
   "metadata": {},
   "outputs": [],
   "source": [
    "ros = RandomOverSampler(random_state=1)\n",
    "X_resampled, y_resampled = ros.fit_resample(X_train, y_train)\n",
    "Counter(y_resampled)\n",
    "# Train the Logistic Regression model using the resampled data\n",
    "\n",
    "model = LogisticRegression(solver='liblinear', random_state=1)\n",
    "    \n",
    "#'liblinear’, ‘sag’, ‘saga\n",
    "model.fit(X_resampled, y_resampled)\n",
    "# Display the confusion matrix\n",
    "\n",
    "y_pred = model.predict(X_test)\n",
    "print(f\"The accuracy score: \\n{balanced_accuracy_score(y_test, y_pred)}\\n\")\n"
   ]
  },
  {
   "cell_type": "code",
   "execution_count": null,
   "id": "776c5182",
   "metadata": {},
   "outputs": [],
   "source": []
  },
  {
   "cell_type": "code",
   "execution_count": null,
   "id": "39322090",
   "metadata": {},
   "outputs": [],
   "source": []
  }
 ],
 "metadata": {
  "kernelspec": {
   "display_name": "mlenv",
   "language": "python",
   "name": "mlenv"
  },
  "language_info": {
   "codemirror_mode": {
    "name": "ipython",
    "version": 3
   },
   "file_extension": ".py",
   "mimetype": "text/x-python",
   "name": "python",
   "nbconvert_exporter": "python",
   "pygments_lexer": "ipython3",
   "version": "3.7.13"
  }
 },
 "nbformat": 4,
 "nbformat_minor": 5
}
