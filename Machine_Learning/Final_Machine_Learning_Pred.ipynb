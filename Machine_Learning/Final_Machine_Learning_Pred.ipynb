{
 "cells": [
  {
   "cell_type": "markdown",
   "id": "a4a2e5fa",
   "metadata": {},
   "source": [
    "## import the data from the database "
   ]
  },
  {
   "cell_type": "markdown",
   "id": "e35e2798",
   "metadata": {},
   "source": [
    "This is my attempt to make a connection between the postgres database and this file\n",
    "It seems to work up until the import config from config portion \n",
    "I'm not sure if I don't have my environment set up correctly or what the issue is \n",
    "but it is needed because the program will recognize the class we are trying to use as \n",
    "a module\n"
   ]
  },
  {
   "cell_type": "code",
   "execution_count": 1,
   "id": "b0e74a23",
   "metadata": {},
   "outputs": [
    {
     "name": "stderr",
     "output_type": "stream",
     "text": [
      "/Users/clarerobbins/opt/anaconda3/envs/mlenv/lib/python3.7/site-packages/psycopg2/__init__.py:144: UserWarning: The psycopg2 wheel package will be renamed from release 2.8; in order to keep installing from binary please use \"pip install psycopg2-binary\" instead. For details see: <http://initd.org/psycopg/docs/install.html#binary-install-from-pypi>.\n",
      "  \"\"\")\n"
     ]
    }
   ],
   "source": [
    "#import the password from a seperate file that is ignored on github\n",
    "# from config import password\n",
    "# import dependencies \n",
    "import psycopg2\n",
    "import warnings\n",
    "warnings.filterwarnings('ignore')\n",
    "import numpy as np\n",
    "import pandas as pd\n",
    "from collections import Counter\n",
    "from sklearn.metrics import balanced_accuracy_score\n",
    "from sklearn.metrics import confusion_matrix\n",
    "from imblearn.metrics import classification_report_imbalanced\n",
    "from sklearn.model_selection import train_test_split"
   ]
  },
  {
   "cell_type": "code",
   "execution_count": 2,
   "id": "aab83a9d",
   "metadata": {},
   "outputs": [
    {
     "name": "stdout",
     "output_type": "stream",
     "text": [
      "Enter database password········\n",
      "pyscopg2 connection: <connection object at 0x7f90e08c3440; dsn: 'user=postgres password=xxx dbname=Tennessee_Tornadoes host=localhost', closed: 0>\n"
     ]
    }
   ],
   "source": [
    "from getpass import getpass \n",
    "password = getpass ('Enter database password')\n",
    "\n",
    "try: \n",
    "    conn = psycopg2.connect(\n",
    "        host=\"localhost\",\n",
    "        database = \"Tennessee_Tornadoes\",\n",
    "        user=\"postgres\",\n",
    "        password=password)\n",
    "    print ('pyscopg2 connection:', conn)\n",
    "    \n",
    "except Exception as err:\n",
    "    print ('psycopg2 connect() ERROR:', err)\n",
    "    connect = None\n"
   ]
  },
  {
   "cell_type": "code",
   "execution_count": 3,
   "id": "b9a888f2",
   "metadata": {},
   "outputs": [],
   "source": [
    "cr = conn.cursor()\n",
    "cr.execute('SELECT * FROM tennessee_tornadoes;')\n",
    "tmp = cr.fetchall()"
   ]
  },
  {
   "cell_type": "code",
   "execution_count": 5,
   "id": "a9e54d03",
   "metadata": {},
   "outputs": [],
   "source": [
    "#extract the  column names\n",
    "col_names = []\n",
    "for db in cr.description:\n",
    "    col_names.append(db[0])"
   ]
  },
  {
   "cell_type": "code",
   "execution_count": 6,
   "id": "3d98a5ae",
   "metadata": {},
   "outputs": [
    {
     "data": {
      "text/html": [
       "<div>\n",
       "<style scoped>\n",
       "    .dataframe tbody tr th:only-of-type {\n",
       "        vertical-align: middle;\n",
       "    }\n",
       "\n",
       "    .dataframe tbody tr th {\n",
       "        vertical-align: top;\n",
       "    }\n",
       "\n",
       "    .dataframe thead th {\n",
       "        text-align: right;\n",
       "    }\n",
       "</style>\n",
       "<table border=\"1\" class=\"dataframe\">\n",
       "  <thead>\n",
       "    <tr style=\"text-align: right;\">\n",
       "      <th></th>\n",
       "      <th>fid</th>\n",
       "      <th>om</th>\n",
       "      <th>yr</th>\n",
       "      <th>mo</th>\n",
       "      <th>dy</th>\n",
       "      <th>date</th>\n",
       "      <th>time</th>\n",
       "      <th>tz</th>\n",
       "      <th>st</th>\n",
       "      <th>stf</th>\n",
       "      <th>...</th>\n",
       "      <th>fat</th>\n",
       "      <th>loss</th>\n",
       "      <th>closs</th>\n",
       "      <th>slat</th>\n",
       "      <th>slon</th>\n",
       "      <th>elat</th>\n",
       "      <th>elon</th>\n",
       "      <th>len</th>\n",
       "      <th>wid</th>\n",
       "      <th>shape_leng</th>\n",
       "    </tr>\n",
       "  </thead>\n",
       "  <tbody>\n",
       "    <tr>\n",
       "      <th>0</th>\n",
       "      <td>23025</td>\n",
       "      <td>303811</td>\n",
       "      <td>2011</td>\n",
       "      <td>4</td>\n",
       "      <td>9</td>\n",
       "      <td>2011-04-09</td>\n",
       "      <td>14:35:00</td>\n",
       "      <td>3</td>\n",
       "      <td>TN</td>\n",
       "      <td>47</td>\n",
       "      <td>...</td>\n",
       "      <td>0</td>\n",
       "      <td>0.02</td>\n",
       "      <td>0.0</td>\n",
       "      <td>36.2971</td>\n",
       "      <td>-82.3174</td>\n",
       "      <td>36.2934</td>\n",
       "      <td>-82.3021</td>\n",
       "      <td>0.89</td>\n",
       "      <td>50</td>\n",
       "      <td>0.015741</td>\n",
       "    </tr>\n",
       "    <tr>\n",
       "      <th>1</th>\n",
       "      <td>23027</td>\n",
       "      <td>291955</td>\n",
       "      <td>2011</td>\n",
       "      <td>4</td>\n",
       "      <td>9</td>\n",
       "      <td>2011-04-09</td>\n",
       "      <td>16:00:00</td>\n",
       "      <td>3</td>\n",
       "      <td>TN</td>\n",
       "      <td>47</td>\n",
       "      <td>...</td>\n",
       "      <td>0</td>\n",
       "      <td>0.075</td>\n",
       "      <td>0.0</td>\n",
       "      <td>36.3</td>\n",
       "      <td>-82.4341</td>\n",
       "      <td>36.3</td>\n",
       "      <td>-82.4341</td>\n",
       "      <td>3.0</td>\n",
       "      <td>150</td>\n",
       "      <td>0</td>\n",
       "    </tr>\n",
       "    <tr>\n",
       "      <th>2</th>\n",
       "      <td>23028</td>\n",
       "      <td>303792</td>\n",
       "      <td>2011</td>\n",
       "      <td>4</td>\n",
       "      <td>9</td>\n",
       "      <td>2011-04-09</td>\n",
       "      <td>16:08:00</td>\n",
       "      <td>3</td>\n",
       "      <td>TN</td>\n",
       "      <td>47</td>\n",
       "      <td>...</td>\n",
       "      <td>0</td>\n",
       "      <td>0.01</td>\n",
       "      <td>0.0</td>\n",
       "      <td>36.3037</td>\n",
       "      <td>-82.3923</td>\n",
       "      <td>36.3099</td>\n",
       "      <td>-82.3846</td>\n",
       "      <td>0.61</td>\n",
       "      <td>100</td>\n",
       "      <td>0.009886</td>\n",
       "    </tr>\n",
       "    <tr>\n",
       "      <th>3</th>\n",
       "      <td>23029</td>\n",
       "      <td>303819</td>\n",
       "      <td>2011</td>\n",
       "      <td>4</td>\n",
       "      <td>9</td>\n",
       "      <td>2011-04-09</td>\n",
       "      <td>16:15:00</td>\n",
       "      <td>3</td>\n",
       "      <td>TN</td>\n",
       "      <td>47</td>\n",
       "      <td>...</td>\n",
       "      <td>0</td>\n",
       "      <td>0.015</td>\n",
       "      <td>0.0</td>\n",
       "      <td>36.0424</td>\n",
       "      <td>-82.5568</td>\n",
       "      <td>36.0477</td>\n",
       "      <td>-82.5393</td>\n",
       "      <td>1.04</td>\n",
       "      <td>50</td>\n",
       "      <td>0.018285</td>\n",
       "    </tr>\n",
       "    <tr>\n",
       "      <th>4</th>\n",
       "      <td>23044</td>\n",
       "      <td>347401</td>\n",
       "      <td>2011</td>\n",
       "      <td>4</td>\n",
       "      <td>27</td>\n",
       "      <td>2011-04-27</td>\n",
       "      <td>19:07:00</td>\n",
       "      <td>3</td>\n",
       "      <td>TN</td>\n",
       "      <td>47</td>\n",
       "      <td>...</td>\n",
       "      <td>0</td>\n",
       "      <td>0.005</td>\n",
       "      <td>0.0</td>\n",
       "      <td>36.2255</td>\n",
       "      <td>-83.057</td>\n",
       "      <td>36.2263</td>\n",
       "      <td>-83.0486</td>\n",
       "      <td>0.5</td>\n",
       "      <td>70</td>\n",
       "      <td>0.008438</td>\n",
       "    </tr>\n",
       "  </tbody>\n",
       "</table>\n",
       "<p>5 rows × 23 columns</p>\n",
       "</div>"
      ],
      "text/plain": [
       "     fid      om    yr  mo  dy        date      time  tz  st  stf  ...  fat  \\\n",
       "0  23025  303811  2011   4   9  2011-04-09  14:35:00   3  TN   47  ...    0   \n",
       "1  23027  291955  2011   4   9  2011-04-09  16:00:00   3  TN   47  ...    0   \n",
       "2  23028  303792  2011   4   9  2011-04-09  16:08:00   3  TN   47  ...    0   \n",
       "3  23029  303819  2011   4   9  2011-04-09  16:15:00   3  TN   47  ...    0   \n",
       "4  23044  347401  2011   4  27  2011-04-27  19:07:00   3  TN   47  ...    0   \n",
       "\n",
       "    loss  closs     slat      slon     elat      elon   len  wid shape_leng  \n",
       "0   0.02    0.0  36.2971  -82.3174  36.2934  -82.3021  0.89   50   0.015741  \n",
       "1  0.075    0.0     36.3  -82.4341     36.3  -82.4341   3.0  150          0  \n",
       "2   0.01    0.0  36.3037  -82.3923  36.3099  -82.3846  0.61  100   0.009886  \n",
       "3  0.015    0.0  36.0424  -82.5568  36.0477  -82.5393  1.04   50   0.018285  \n",
       "4  0.005    0.0  36.2255   -83.057  36.2263  -83.0486   0.5   70   0.008438  \n",
       "\n",
       "[5 rows x 23 columns]"
      ]
     },
     "execution_count": 6,
     "metadata": {},
     "output_type": "execute_result"
    }
   ],
   "source": [
    "# Create the dataframe, passing in the list of col_names extracted from the description\n",
    "df = pd.DataFrame(tmp, columns=col_names)\n",
    "df.head()"
   ]
  },
  {
   "cell_type": "code",
   "execution_count": 8,
   "id": "aa796431",
   "metadata": {},
   "outputs": [],
   "source": [
    "# #!/usr/bin/python\n",
    "# from configparser import ConfigParser\n",
    "\n",
    "\n",
    "# def config(filename='database.ini', section='postgresql'):\n",
    "#     # create a parser\n",
    "#     parser = ConfigParser()\n",
    "#     # read config file\n",
    "#     parser.read(filename)\n",
    "\n",
    "#     # get section, default to postgresql\n",
    "#     db = {}\n",
    "#     if parser.has_section(section):\n",
    "#         params = parser.items(section)\n",
    "#         for param in params:\n",
    "#             db[param[0]] = param[1]\n",
    "#     else:\n",
    "#         raise Exception('Section {0} not found in the {1} file'.format(section, filename))\n",
    "\n",
    "#     return db\n"
   ]
  },
  {
   "cell_type": "code",
   "execution_count": 6,
   "id": "3f7b69ad",
   "metadata": {},
   "outputs": [
    {
     "ename": "ImportError",
     "evalue": "cannot import name 'config' from 'config' (/opt/anaconda3/envs/mlenv/lib/python3.7/site-packages/config/__init__.py)",
     "output_type": "error",
     "traceback": [
      "\u001b[0;31m---------------------------------------------------------------------------\u001b[0m",
      "\u001b[0;31mImportError\u001b[0m                               Traceback (most recent call last)",
      "\u001b[0;32m/var/folders/80/nn3qytbn08s5mgmdb8mwxzdm0000gn/T/ipykernel_24772/2157946732.py\u001b[0m in \u001b[0;36m<module>\u001b[0;34m\u001b[0m\n\u001b[0;32m----> 1\u001b[0;31m \u001b[0;32mfrom\u001b[0m \u001b[0mconfig\u001b[0m \u001b[0;32mimport\u001b[0m \u001b[0mconfig\u001b[0m\u001b[0;34m\u001b[0m\u001b[0;34m\u001b[0m\u001b[0m\n\u001b[0m",
      "\u001b[0;31mImportError\u001b[0m: cannot import name 'config' from 'config' (/opt/anaconda3/envs/mlenv/lib/python3.7/site-packages/config/__init__.py)"
     ]
    }
   ],
   "source": [
    "# from config import config"
   ]
  },
  {
   "cell_type": "code",
   "execution_count": null,
   "id": "9362e81d",
   "metadata": {},
   "outputs": [],
   "source": [
    "# #!/usr/bin/python\n",
    "\n",
    "# def connect():\n",
    "#     \"\"\" Connect to the PostgreSQL database server \"\"\"\n",
    "#     conn = None\n",
    "#     try:\n",
    "#         # read connection parameters\n",
    "#         params = config()\n",
    "\n",
    "#         # connect to the PostgreSQL server\n",
    "#         print('Connecting to the PostgreSQL database...')\n",
    "#         conn = psycopg2.connect(**params)\n",
    "\n",
    "#         # create a cursor\n",
    "#         cur = conn.cursor()\n",
    "#     # execute a statement\n",
    "#         print('PostgreSQL database version:')\n",
    "#         cur.execute('SELECT version()')\n",
    "\n",
    "#         # display the PostgreSQL database server version\n",
    "#         db_version = cur.fetchone()\n",
    "#         print(db_version)\n",
    "       \n",
    "#     # close the communication with the PostgreSQL\n",
    "#         cur.close()\n",
    "#     except (Exception, psycopg2.DatabaseError) as error:\n",
    "#         print(error)\n",
    "#     finally:\n",
    "#         if conn is not None:\n",
    "#             conn.close()\n",
    "#             print('Database connection closed.')\n",
    "\n",
    "\n",
    "# if __name__ == '__main__':\n",
    "#     connect()\n",
    "    \n",
    "    \n"
   ]
  },
  {
   "cell_type": "code",
   "execution_count": null,
   "id": "be63d73b",
   "metadata": {},
   "outputs": [],
   "source": [
    "#python connect.py"
   ]
  },
  {
   "cell_type": "markdown",
   "id": "fb2da73f",
   "metadata": {},
   "source": [
    "### Prepare Data for the ML"
   ]
  },
  {
   "cell_type": "code",
   "execution_count": null,
   "id": "9843d050",
   "metadata": {},
   "outputs": [],
   "source": [
    "# Create our features\n",
    "\n",
    "target = ''\n",
    "X = pd.get_dummies(df.drop(columns=loss))\n",
    "\n",
    "\n",
    "# Create our target\n",
    "y = df[loss]"
   ]
  },
  {
   "cell_type": "code",
   "execution_count": null,
   "id": "a17db1ce",
   "metadata": {},
   "outputs": [],
   "source": [
    "\n",
    "X_train, X_test, y_train, y_test = train_test_split(X, \n",
    "                                                    y, \n",
    "                                                    random_state=1)"
   ]
  },
  {
   "cell_type": "markdown",
   "id": "e911e5dd",
   "metadata": {},
   "source": [
    "### Run the first model"
   ]
  },
  {
   "cell_type": "markdown",
   "id": "1b8cb22d",
   "metadata": {},
   "source": [
    "target = loss"
   ]
  },
  {
   "cell_type": "code",
   "execution_count": null,
   "id": "9fc92d4b",
   "metadata": {},
   "outputs": [],
   "source": [
    "\n",
    "\n",
    "model = TBD \n",
    "\n",
    "\n",
    "model = model.fit(X_train, y_train)\n",
    "# Calculated the balanced accuracy score\n",
    "y_pred = model.predict(X_test)\n",
    "balanced_accuracy_score(y_test, y_pred)\n",
    "print(f\"The accuracy score: \\n{balanced_accuracy_score(y_test, y_pred)}\\n\")\n",
    "# Display the confusion matrix\n",
    "print(f\"Confusion Matrix:\\n{confusion_matrix(y_test, y_pred)}\\n\")\n",
    "# Print the imbalanced classification report\n",
    "print(f\"Classification Report:\\n{classification_report_imbalanced(y_test, y_pred)}\")"
   ]
  },
  {
   "cell_type": "markdown",
   "id": "8fad7f03",
   "metadata": {},
   "source": [
    "### Run the second model "
   ]
  },
  {
   "cell_type": "markdown",
   "id": "a4d62b32",
   "metadata": {},
   "source": [
    "target = location "
   ]
  },
  {
   "cell_type": "code",
   "execution_count": null,
   "id": "3928da37",
   "metadata": {},
   "outputs": [],
   "source": [
    "\n",
    "\n",
    "model = TBD \n",
    "\n",
    "\n",
    "model = model.fit(X_train, y_train)\n",
    "# Calculated the balanced accuracy score\n",
    "y_pred = model.predict(X_test)\n",
    "balanced_accuracy_score(y_test, y_pred)\n",
    "print(f\"The accuracy score: \\n{balanced_accuracy_score(y_test, y_pred)}\\n\")\n",
    "# Display the confusion matrix\n",
    "print(f\"Confusion Matrix:\\n{confusion_matrix(y_test, y_pred)}\\n\")\n",
    "# Print the imbalanced classification report\n",
    "print(f\"Classification Report:\\n{classification_report_imbalanced(y_test, y_pred)}\")"
   ]
  },
  {
   "cell_type": "markdown",
   "id": "91d28cf0",
   "metadata": {},
   "source": [
    "### Run the third model "
   ]
  },
  {
   "cell_type": "markdown",
   "id": "9667ffa8",
   "metadata": {},
   "source": [
    "target = Magnitude "
   ]
  },
  {
   "cell_type": "code",
   "execution_count": null,
   "id": "aae57f4a",
   "metadata": {},
   "outputs": [],
   "source": [
    "model = TBD \n",
    "\n",
    "\n",
    "model = model.fit(X_train, y_train)\n",
    "# Calculated the balanced accuracy score\n",
    "y_pred = model.predict(X_test)\n",
    "balanced_accuracy_score(y_test, y_pred)\n",
    "print(f\"The accuracy score: \\n{balanced_accuracy_score(y_test, y_pred)}\\n\")\n",
    "# Display the confusion matrix\n",
    "print(f\"Confusion Matrix:\\n{confusion_matrix(y_test, y_pred)}\\n\")\n",
    "# Print the imbalanced classification report\n",
    "print(f\"Classification Report:\\n{classification_report_imbalanced(y_test, y_pred)}\")"
   ]
  },
  {
   "cell_type": "code",
   "execution_count": null,
   "id": "776c5182",
   "metadata": {},
   "outputs": [],
   "source": []
  },
  {
   "cell_type": "code",
   "execution_count": null,
   "id": "39322090",
   "metadata": {},
   "outputs": [],
   "source": []
  }
 ],
 "metadata": {
  "kernelspec": {
   "display_name": "mlenv",
   "language": "python",
   "name": "mlenv"
  },
  "language_info": {
   "codemirror_mode": {
    "name": "ipython",
    "version": 3
   },
   "file_extension": ".py",
   "mimetype": "text/x-python",
   "name": "python",
   "nbconvert_exporter": "python",
   "pygments_lexer": "ipython3",
   "version": "3.7.13"
  }
 },
 "nbformat": 4,
 "nbformat_minor": 5
}
