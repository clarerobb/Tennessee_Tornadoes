{
 "cells": [
  {
   "cell_type": "markdown",
   "id": "50f6fd1d",
   "metadata": {},
   "source": [
    "We want predict the areas with the most tornados. - classification "
   ]
  },
  {
   "cell_type": "code",
   "execution_count": 1,
   "id": "99b1e142",
   "metadata": {},
   "outputs": [],
   "source": [
    "import pandas as pd"
   ]
  },
  {
   "cell_type": "code",
   "execution_count": 2,
   "id": "a3b2e99d",
   "metadata": {},
   "outputs": [
    {
     "data": {
      "text/plain": [
       "FID             int64\n",
       "YR              int64\n",
       "MO              int64\n",
       "DATE           object\n",
       "TIME           object\n",
       "MAG             int64\n",
       "LOSS          float64\n",
       "SLAT          float64\n",
       "SLON          float64\n",
       "ELAT          float64\n",
       "ELON          float64\n",
       "LEN           float64\n",
       "WID             int64\n",
       "Fatalities      int64\n",
       "Injuries        int64\n",
       "dtype: object"
      ]
     },
     "execution_count": 2,
     "metadata": {},
     "output_type": "execute_result"
    }
   ],
   "source": [
    "file = '/Users/savannahposner/Desktop/bigProject/TN_DF.csv'\n",
    "df = pd.read_csv(file)\n",
    "df['Fatalities'] = df['FAT']\n",
    "df['Injuries'] = df['INJ']\n",
    "df = df.drop(columns = ['FAT','ST','TZ','STF','DY','CLOSS','STN','OM','INJ','Shape_Leng'], axis = 1)\n",
    "df.dtypes"
   ]
  },
  {
   "cell_type": "code",
   "execution_count": 11,
   "id": "36933b06",
   "metadata": {},
   "outputs": [
    {
     "data": {
      "text/plain": [
       "0       0.020\n",
       "1       0.075\n",
       "2       0.010\n",
       "3       0.015\n",
       "4       0.005\n",
       "        ...  \n",
       "1089    0.000\n",
       "1103    0.025\n",
       "1104    0.250\n",
       "1107    0.010\n",
       "1113    0.180\n",
       "Name: LOSS, Length: 581, dtype: float64"
      ]
     },
     "execution_count": 11,
     "metadata": {},
     "output_type": "execute_result"
    }
   ],
   "source": [
    "# seperate the years, so they can be further superated into bins \n",
    "df_1996 = df.loc[df['YR']>=1996]\n",
    "after_1996 = df_1996['LOSS']\n",
    "\n",
    "\n",
    "if df.loc[df['YR']>=1996]\n",
    "for\n",
    "spending_bins = [0,.00005,.0005,.005,.05,.5,5,50,500,1000]\n",
    "pd.cut(after_1996, spending_bins)\n",
    "group_names = [1,2,3,4,5,6,7,8,9]\n",
    "after_1996 = pd.cut(after_1996, spending_bins, labels=group_names)\n",
    "\n",
    "after_1996\n",
    "after_1996"
   ]
  },
  {
   "cell_type": "code",
   "execution_count": 22,
   "id": "a327b31f",
   "metadata": {},
   "outputs": [
    {
     "data": {
      "text/plain": [
       "101.0"
      ]
     },
     "execution_count": 22,
     "metadata": {},
     "output_type": "execute_result"
    }
   ],
   "source": [
    "after_1996.max()"
   ]
  },
  {
   "cell_type": "code",
   "execution_count": 25,
   "id": "e4e767b5",
   "metadata": {},
   "outputs": [
    {
     "data": {
      "text/plain": [
       "0         4\n",
       "1         5\n",
       "2         4\n",
       "3         4\n",
       "4         3\n",
       "       ... \n",
       "1089    NaN\n",
       "1103      4\n",
       "1104      5\n",
       "1107      4\n",
       "1113      5\n",
       "Name: LOSS, Length: 581, dtype: category\n",
       "Categories (9, int64): [1 < 2 < 3 < 4 ... 6 < 7 < 8 < 9]"
      ]
     },
     "execution_count": 25,
     "metadata": {},
     "output_type": "execute_result"
    }
   ],
   "source": [
    "\n",
    "# PS = per_school_summary_df[\"Per Student Budget\"]\n",
    "\n",
    "after_1996\n",
    "spending_bins = [0,.00005,.0005,.005,.05,.5,5,50,500,1000]\n",
    "pd.cut(after_1996, spending_bins)\n",
    "group_names = [1,2,3,4,5,6,7,8,9]\n",
    "after_1996 = pd.cut(after_1996, spending_bins, labels=group_names)\n",
    "\n",
    "after_1996\n",
    "\n",
    "\n"
   ]
  },
  {
   "cell_type": "code",
   "execution_count": 16,
   "id": "9bc23878",
   "metadata": {},
   "outputs": [
    {
     "data": {
      "text/plain": [
       "0       0.020\n",
       "1       0.075\n",
       "2       0.010\n",
       "3       0.015\n",
       "4       0.005\n",
       "        ...  \n",
       "1089    0.000\n",
       "1103    0.025\n",
       "1104    0.250\n",
       "1107    0.010\n",
       "1113    0.180\n",
       "Name: LOSS, Length: 581, dtype: float64"
      ]
     },
     "execution_count": 16,
     "metadata": {},
     "output_type": "execute_result"
    }
   ],
   "source": [
    "after_1996"
   ]
  },
  {
   "cell_type": "code",
   "execution_count": null,
   "id": "a52832e1",
   "metadata": {},
   "outputs": [],
   "source": []
  },
  {
   "cell_type": "code",
   "execution_count": 5,
   "id": "d60603d9",
   "metadata": {},
   "outputs": [
    {
     "data": {
      "text/plain": [
       "14      5.0\n",
       "15      4.0\n",
       "16      4.0\n",
       "17      3.0\n",
       "18      6.0\n",
       "       ... \n",
       "1108    4.0\n",
       "1109    4.0\n",
       "1110    6.0\n",
       "1111    4.0\n",
       "1112    4.0\n",
       "Name: LOSS, Length: 533, dtype: float64"
      ]
     },
     "execution_count": 5,
     "metadata": {},
     "output_type": "execute_result"
    }
   ],
   "source": [
    "df_1996 = df.loc[df['YR']<1996]\n",
    "before_1996= df_1996['LOSS']\n",
    "before_1996\n",
    "\n"
   ]
  },
  {
   "cell_type": "code",
   "execution_count": null,
   "id": "0ae70c01",
   "metadata": {},
   "outputs": [],
   "source": []
  },
  {
   "cell_type": "code",
   "execution_count": null,
   "id": "111f7615",
   "metadata": {},
   "outputs": [],
   "source": []
  },
  {
   "cell_type": "code",
   "execution_count": null,
   "id": "d89b4d2d",
   "metadata": {},
   "outputs": [],
   "source": []
  }
 ],
 "metadata": {
  "kernelspec": {
   "display_name": "mlenv",
   "language": "python",
   "name": "mlenv"
  },
  "language_info": {
   "codemirror_mode": {
    "name": "ipython",
    "version": 3
   },
   "file_extension": ".py",
   "mimetype": "text/x-python",
   "name": "python",
   "nbconvert_exporter": "python",
   "pygments_lexer": "ipython3",
   "version": "3.7.13"
  }
 },
 "nbformat": 4,
 "nbformat_minor": 5
}
